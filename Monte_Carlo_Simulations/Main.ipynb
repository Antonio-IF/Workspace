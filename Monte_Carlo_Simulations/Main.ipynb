{
 "cells": [
  {
   "cell_type": "markdown",
   "metadata": {},
   "source": [
    "# Monte Carlo Simulations\n"
   ]
  },
  {
   "cell_type": "markdown",
   "metadata": {},
   "source": [
    "<img src=\"Images/MonteCarlo.png\" alt=\"Monte Carlo Simulation\">\n"
   ]
  },
  {
   "cell_type": "code",
   "execution_count": 6,
   "metadata": {},
   "outputs": [],
   "source": [
    "## Importing Libraries\n",
    "import random\n",
    "\n"
   ]
  },
  {
   "cell_type": "markdown",
   "metadata": {},
   "source": [
    "## Monte Carlo Simulation in CoinFlip"
   ]
  },
  {
   "cell_type": "code",
   "execution_count": 12,
   "metadata": {},
   "outputs": [],
   "source": [
    "def coinFlip():\n",
    "    return random.choice([1, # Heads\n",
    "                          0]) # Tails"
   ]
  },
  {
   "cell_type": "code",
   "execution_count": 13,
   "metadata": {},
   "outputs": [
    {
     "data": {
      "text/plain": [
       "1"
      ]
     },
     "execution_count": 13,
     "metadata": {},
     "output_type": "execute_result"
    }
   ],
   "source": [
    "coinFlip()"
   ]
  },
  {
   "cell_type": "code",
   "execution_count": 16,
   "metadata": {},
   "outputs": [],
   "source": [
    "def run_simulation(n):\n",
    "    results = 0\n",
    "    for i in range(n):\n",
    "        results += coinFlip()\n",
    "    return results/n"
   ]
  },
  {
   "cell_type": "markdown",
   "metadata": {},
   "source": []
  },
  {
   "cell_type": "code",
   "execution_count": 23,
   "metadata": {},
   "outputs": [
    {
     "name": "stdout",
     "output_type": "stream",
     "text": [
      "0.0\n",
      "0.472\n",
      "0.500108\n"
     ]
    }
   ],
   "source": [
    "print(run_simulation(1))\n",
    "print(run_simulation(1000))\n",
    "print(run_simulation(1000000))\n"
   ]
  },
  {
   "cell_type": "markdown",
   "metadata": {},
   "source": [
    "Running more simulations, the results get closer to 0.5 in the long run for a fair coin flip.\n",
    "\n"
   ]
  },
  {
   "cell_type": "markdown",
   "metadata": {},
   "source": [
    "## Monte Carlo Simulation in Blackjack\n"
   ]
  },
  {
   "cell_type": "markdown",
   "metadata": {},
   "source": [
    "1. In Blackjack:\n",
    "\n",
    "- The goal is get 21 points or as close to 21 as possible without going over.\n",
    "- The player can hit (draw another card) or stand (keep the current hand).\n",
    "- The player play vs the dealer. (The casino is the dealer)\n",
    "- The dealer plays after the player.\n",
    "- The dealer must hit until the dealer's hand is at least 17.\n",
    "- If the player goes over 21, the player loses.\n",
    "\n",
    "\n",
    "\n"
   ]
  },
  {
   "cell_type": "code",
   "execution_count": 4,
   "metadata": {},
   "outputs": [
    {
     "name": "stdout",
     "output_type": "stream",
     "text": [
      "Ace\n",
      "Not Jack\n"
     ]
    }
   ],
   "source": [
    "cards = [1, # Ace Value = 1 or 11        \n",
    "         2, # 2 Value = 2\n",
    "         3, # 3 Value = 3\n",
    "         4, # 4 Value = 4\n",
    "         5, # 5 Value = 5\n",
    "         6, # 6 Value = 6\n",
    "         7, # 7 Value = 7\n",
    "         8, # 8 Value = 8\n",
    "         9, # 9 Value = 9\n",
    "         10, # 10 Value = 10\n",
    "         11, # Jack Value = 10\n",
    "         12, # Queen Value = 10\n",
    "         13] # King Value = 10\n",
    "\n",
    "\n",
    "\n",
    "\n",
    "\n"
   ]
  },
  {
   "cell_type": "code",
   "execution_count": 5,
   "metadata": {},
   "outputs": [
    {
     "name": "stdout",
     "output_type": "stream",
     "text": [
      "[8, 5, 13, 11, 1, 10, 4, 9, 7, 12, 2, 6, 3]\n"
     ]
    }
   ],
   "source": [
    "import random \n",
    "\n",
    "random.shuffle(cards)\n",
    "\n",
    "print(cards)\n"
   ]
  },
  {
   "cell_type": "code",
   "execution_count": null,
   "metadata": {},
   "outputs": [],
   "source": []
  }
 ],
 "metadata": {
  "kernelspec": {
   "display_name": "Python 3",
   "language": "python",
   "name": "python3"
  },
  "language_info": {
   "codemirror_mode": {
    "name": "ipython",
    "version": 3
   },
   "file_extension": ".py",
   "mimetype": "text/x-python",
   "name": "python",
   "nbconvert_exporter": "python",
   "pygments_lexer": "ipython3",
   "version": "3.12.7"
  }
 },
 "nbformat": 4,
 "nbformat_minor": 2
}
